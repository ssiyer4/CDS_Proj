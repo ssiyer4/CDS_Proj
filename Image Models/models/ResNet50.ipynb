{
 "cells": [
  {
   "cell_type": "code",
   "execution_count": 1,
   "metadata": {},
   "outputs": [],
   "source": [
    "import numpy as np\n",
    "import pandas as pd\n",
    "import os\n",
    "import cv2\n",
    "import torch\n",
    "import torchvision.transforms as transforms\n",
    "from sklearn.model_selection import train_test_split\n",
    "from torch.utils.data import Dataset, DataLoader\n",
    "import torchvision.models as models\n",
    "import torch.nn as nn\n",
    "import torch.optim as optim\n",
    "from torchvision.datasets import ImageFolder\n",
    "from torchvision.models import resnet50\n",
    "from tqdm import tqdm"
   ]
  },
  {
   "cell_type": "code",
   "execution_count": 2,
   "metadata": {},
   "outputs": [],
   "source": [
    "# Custom Dataset class which applies transformation \n",
    "class CustomDataset(Dataset):\n",
    "    def __init__(self, metadata, image_dir, transform=None):\n",
    "        self.metadata = metadata\n",
    "        self.image_dir = image_dir\n",
    "        self.transform = transform\n",
    "\n",
    "    def __len__(self):\n",
    "        return len(self.metadata)\n",
    "\n",
    "    def __getitem__(self, idx):\n",
    "        img_name = os.path.join(self.image_dir, self.metadata.iloc[idx, 0])\n",
    "        image = cv2.imread(img_name)\n",
    "        image = cv2.cvtColor(image, cv2.COLOR_BGR2RGB) \n",
    "\n",
    "        if self.transform:\n",
    "            image = self.transform(image)\n",
    "\n",
    "        label = self.metadata.iloc[idx, 1]\n",
    "        return image, label"
   ]
  },
  {
   "cell_type": "code",
   "execution_count": 3,
   "metadata": {},
   "outputs": [],
   "source": [
    "\n",
    "train_image_dir = 'sampled_data/train_data'\n",
    "val_image_dir = 'sampled_data/val_data'\n",
    "test_image_dir = 'sampled_data/test_data'\n",
    "\n",
    "\n",
    "train_metadata = pd.read_csv('sampled_data/train_data.csv', usecols=['filename', 'age'])\n",
    "val_metadata = pd.read_csv('sampled_data/val_data.csv', usecols=['filename', 'age'])\n",
    "test_metadata = pd.read_csv('sampled_data/test_data.csv', usecols=['filename', 'age'])\n"
   ]
  },
  {
   "cell_type": "code",
   "execution_count": 4,
   "metadata": {},
   "outputs": [],
   "source": [
    "# Image transformations with augmentation for training set so it can perform well on unseen data\n",
    "train_transform = transforms.Compose([\n",
    "    transforms.ToPILImage(),\n",
    "    transforms.Resize((224, 224)),\n",
    "    transforms.RandomHorizontalFlip(),\n",
    "    transforms.RandomRotation(degrees=10),\n",
    "    transforms.ColorJitter(brightness=0.2, contrast=0.2, saturation=0.2, hue=0.1),\n",
    "    transforms.ToTensor(),\n",
    "    transforms.Normalize(mean=[0.485, 0.456, 0.406], std=[0.229, 0.224, 0.225])\n",
    "])\n",
    "\n",
    "# Image transformations without augmentation for validation and test sets\n",
    "val_test_transform = transforms.Compose([\n",
    "    transforms.ToPILImage(),\n",
    "    transforms.Resize((224, 224)),\n",
    "    transforms.ToTensor(),\n",
    "    transforms.Normalize(mean=[0.485, 0.456, 0.406], std=[0.229, 0.224, 0.225])\n",
    "])"
   ]
  },
  {
   "cell_type": "code",
   "execution_count": 5,
   "metadata": {},
   "outputs": [],
   "source": [
    "\n",
    "train_dataset = CustomDataset(train_metadata, train_image_dir, transform=train_transform)\n",
    "val_dataset = CustomDataset(val_metadata, val_image_dir, transform=val_test_transform)\n",
    "test_dataset = CustomDataset(test_metadata, test_image_dir, transform=val_test_transform)\n",
    "\n",
    "\n",
    "train_loader = DataLoader(train_dataset, batch_size=32, shuffle=True)\n",
    "val_loader = DataLoader(val_dataset, batch_size=32)\n",
    "test_loader = DataLoader(test_dataset, batch_size=32)"
   ]
  },
  {
   "cell_type": "code",
   "execution_count": 6,
   "metadata": {},
   "outputs": [
    {
     "name": "stderr",
     "output_type": "stream",
     "text": [
      "/opt/homebrew/lib/python3.11/site-packages/torchvision/models/_utils.py:208: UserWarning: The parameter 'pretrained' is deprecated since 0.13 and may be removed in the future, please use 'weights' instead.\n",
      "  warnings.warn(\n",
      "/opt/homebrew/lib/python3.11/site-packages/torchvision/models/_utils.py:223: UserWarning: Arguments other than a weight enum or `None` for 'weights' are deprecated since 0.13 and may be removed in the future. The current behavior is equivalent to passing `weights=ResNet50_Weights.IMAGENET1K_V1`. You can also use `weights=ResNet50_Weights.DEFAULT` to get the most up-to-date weights.\n",
      "  warnings.warn(msg)\n"
     ]
    }
   ],
   "source": [
    "# Load pre-trained ResNet-50 model\n",
    "model = models.resnet50(pretrained=True)\n",
    "\n",
    "# Modify the last fully connected layer to output a single value (age prediction)\n",
    "num_features = model.fc.in_features\n",
    "model.fc = nn.Linear(num_features, 1)\n",
    "\n",
    "# Define loss function and optimizer\n",
    "criterion = nn.CrossEntropyLoss()\n",
    "optimizer = optim.Adam(model.parameters(), lr=0.001)"
   ]
  },
  {
   "cell_type": "code",
   "execution_count": 8,
   "metadata": {},
   "outputs": [
    {
     "name": "stdout",
     "output_type": "stream",
     "text": [
      "Epoch [1/10], Loss: 250.41588101310526\n",
      "Epoch [2/10], Loss: 169.7809436002517\n",
      "Epoch [3/10], Loss: 150.2827923412629\n",
      "Epoch [4/10], Loss: 137.1509117820046\n",
      "Epoch [5/10], Loss: 126.27296443266027\n",
      "Epoch [6/10], Loss: 120.26691058561764\n",
      "Epoch [7/10], Loss: 111.59561193537584\n",
      "Epoch [8/10], Loss: 102.87378977607278\n",
      "Epoch [9/10], Loss: 98.58286336399017\n",
      "Epoch [10/10], Loss: 95.92880350204713\n"
     ]
    }
   ],
   "source": [
    "# Training the model\n",
    "num_epochs = 10\n",
    "for epoch in range(num_epochs):\n",
    "    model.train()\n",
    "    running_loss = 0.0\n",
    "    for inputs, targets in train_loader:\n",
    "        optimizer.zero_grad()\n",
    "        outputs = model(inputs)\n",
    "        loss = criterion(outputs.squeeze(), targets.float())  # Assuming targets are integers, convert to float\n",
    "        loss.backward()\n",
    "        optimizer.step()\n",
    "        running_loss += loss.item()\n",
    "    print(f\"Epoch [{epoch+1}/{num_epochs}], Loss: {running_loss/len(train_loader)}\")\n"
   ]
  },
  {
   "cell_type": "code",
   "execution_count": 9,
   "metadata": {},
   "outputs": [
    {
     "name": "stdout",
     "output_type": "stream",
     "text": [
      "Validation Loss: 111.94293610524323, Validation Accuracy: 0.04332801701222754\n",
      "Test Loss: 105.4825418993958, Test Accuracy: 0.045466702326825356\n"
     ]
    }
   ],
   "source": [
    "# Validation\n",
    "model.eval()  \n",
    "val_loss = 0.0\n",
    "total_correct_val = 0\n",
    "total_samples_val = 0\n",
    "with torch.no_grad():\n",
    "    for inputs, targets in val_loader:\n",
    "        outputs = model(inputs)\n",
    "        loss = criterion(outputs.squeeze(), targets.float())\n",
    "        val_loss += loss.item()\n",
    "\n",
    "        # Calculate validation accuracy\n",
    "        predictions_val = torch.round(outputs).squeeze()\n",
    "        correct_val = (predictions_val == targets).sum().item()\n",
    "        total_correct_val += correct_val\n",
    "        total_samples_val += targets.size(0)\n",
    "\n",
    "val_loss /= len(val_loader)\n",
    "print(f\"Validation Loss: {val_loss}, Validation Accuracy: {total_correct_val / total_samples_val}\")\n",
    "\n",
    "\n",
    "# Evaluation on Test Set\n",
    "test_loss = 0.0\n",
    "total_correct_test = 0\n",
    "total_samples_test = 0\n",
    "predictions_test = []\n",
    "with torch.no_grad():\n",
    "    for inputs, targets in test_loader:\n",
    "        outputs = model(inputs)\n",
    "        loss = criterion(outputs.squeeze(), targets.float())\n",
    "        test_loss += loss.item()\n",
    "\n",
    "        # Calculate test accuracy\n",
    "        predictions = torch.round(outputs).squeeze()\n",
    "        correct = (predictions == targets).sum().item()\n",
    "        total_correct_test += correct\n",
    "        total_samples_test += targets.size(0)\n",
    "        \n",
    "\n",
    "test_loss /= len(test_loader)\n",
    "print(f\"Test Loss: {test_loss}, Test Accuracy: {total_correct_test / total_samples_test}\")"
   ]
  }
 ],
 "metadata": {
  "kernelspec": {
   "display_name": "Python 3",
   "language": "python",
   "name": "python3"
  },
  "language_info": {
   "codemirror_mode": {
    "name": "ipython",
    "version": 3
   },
   "file_extension": ".py",
   "mimetype": "text/x-python",
   "name": "python",
   "nbconvert_exporter": "python",
   "pygments_lexer": "ipython3",
   "version": "3.11.7"
  }
 },
 "nbformat": 4,
 "nbformat_minor": 2
}
