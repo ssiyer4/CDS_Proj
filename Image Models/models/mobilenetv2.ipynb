{
 "cells": [
  {
   "cell_type": "code",
   "execution_count": 3,
   "id": "a51171e2-0ba0-4060-a5dd-456bb328fa33",
   "metadata": {},
   "outputs": [
    {
     "name": "stderr",
     "output_type": "stream",
     "text": [
      "2024-03-31 13:07:23.404638: I tensorflow/core/platform/cpu_feature_guard.cc:182] This TensorFlow binary is optimized to use available CPU instructions in performance-critical operations.\n",
      "To enable the following instructions: AVX2 AVX512F FMA, in other operations, rebuild TensorFlow with the appropriate compiler flags.\n"
     ]
    }
   ],
   "source": [
    "import pandas as pd\n",
    "import numpy as np\n",
    "import tensorflow as tf\n",
    "from tensorflow.keras.preprocessing.image import ImageDataGenerator\n",
    "from tensorflow.keras.applications import MobileNetV2\n",
    "from tensorflow.keras.layers import GlobalAveragePooling2D, Dense , Dropout\n",
    "from tensorflow.keras.models import Model\n",
    "from tensorflow.keras.optimizers import Adam\n",
    "from tensorflow.keras.losses import MeanSquaredError\n",
    "from tensorflow.keras import regularizers\n",
    "from tensorflow.keras.callbacks import EarlyStopping, ReduceLROnPlateau\n",
    "import warnings\n",
    "warnings.filterwarnings(\"ignore\", category=UserWarning)\n",
    "from tensorflow.keras.preprocessing.image import load_img\n",
    "from PIL import Image\n"
   ]
  },
  {
   "cell_type": "code",
   "execution_count": 2,
   "id": "ea6bb6b6-1680-40c1-99c6-665746415433",
   "metadata": {},
   "outputs": [
    {
     "name": "stdout",
     "output_type": "stream",
     "text": [
      "Collecting pandas\n",
      "  Using cached pandas-2.2.1-cp311-cp311-manylinux_2_17_x86_64.manylinux2014_x86_64.whl.metadata (19 kB)\n",
      "Requirement already satisfied: numpy in /opt/conda/lib/python3.11/site-packages (1.24.3)\n",
      "Requirement already satisfied: tensorflow in /opt/conda/lib/python3.11/site-packages (2.12.1)\n",
      "Collecting Pillow\n",
      "  Using cached pillow-10.2.0-cp311-cp311-manylinux_2_28_x86_64.whl.metadata (9.7 kB)\n",
      "Requirement already satisfied: python-dateutil>=2.8.2 in /opt/conda/lib/python3.11/site-packages (from pandas) (2.8.2)\n",
      "Requirement already satisfied: pytz>=2020.1 in /opt/conda/lib/python3.11/site-packages (from pandas) (2023.3.post1)\n",
      "Collecting tzdata>=2022.7 (from pandas)\n",
      "  Using cached tzdata-2024.1-py2.py3-none-any.whl.metadata (1.4 kB)\n",
      "Requirement already satisfied: absl-py>=1.0.0 in /opt/conda/lib/python3.11/site-packages (from tensorflow) (2.0.0)\n",
      "Requirement already satisfied: astunparse>=1.6.0 in /opt/conda/lib/python3.11/site-packages (from tensorflow) (1.6.3)\n",
      "Requirement already satisfied: flatbuffers>=2.0 in /opt/conda/lib/python3.11/site-packages (from tensorflow) (23.5.26)\n",
      "Requirement already satisfied: gast<=0.4.0,>=0.2.1 in /opt/conda/lib/python3.11/site-packages (from tensorflow) (0.4.0)\n",
      "Requirement already satisfied: google-pasta>=0.1.1 in /opt/conda/lib/python3.11/site-packages (from tensorflow) (0.2.0)\n",
      "Requirement already satisfied: grpcio<2.0,>=1.24.3 in /opt/conda/lib/python3.11/site-packages (from tensorflow) (1.59.3)\n",
      "Requirement already satisfied: h5py>=2.9.0 in /opt/conda/lib/python3.11/site-packages (from tensorflow) (3.10.0)\n",
      "Requirement already satisfied: jax>=0.3.15 in /opt/conda/lib/python3.11/site-packages (from tensorflow) (0.4.20)\n",
      "Requirement already satisfied: keras<2.13,>=2.12.0 in /opt/conda/lib/python3.11/site-packages (from tensorflow) (2.12.0)\n",
      "Requirement already satisfied: libclang>=13.0.0 in /opt/conda/lib/python3.11/site-packages (from tensorflow) (16.0.6)\n",
      "Requirement already satisfied: opt-einsum>=2.3.2 in /opt/conda/lib/python3.11/site-packages (from tensorflow) (3.3.0)\n",
      "Requirement already satisfied: packaging in /opt/conda/lib/python3.11/site-packages (from tensorflow) (23.2)\n",
      "Requirement already satisfied: protobuf!=4.21.0,!=4.21.1,!=4.21.2,!=4.21.3,!=4.21.4,!=4.21.5,<5.0.0dev,>=3.20.3 in /opt/conda/lib/python3.11/site-packages (from tensorflow) (4.25.1)\n",
      "Requirement already satisfied: setuptools in /opt/conda/lib/python3.11/site-packages (from tensorflow) (68.2.2)\n",
      "Requirement already satisfied: six>=1.12.0 in /opt/conda/lib/python3.11/site-packages (from tensorflow) (1.16.0)\n",
      "Requirement already satisfied: tensorboard<2.13,>=2.12 in /opt/conda/lib/python3.11/site-packages (from tensorflow) (2.12.3)\n",
      "Requirement already satisfied: tensorflow-estimator<2.13,>=2.12.0 in /opt/conda/lib/python3.11/site-packages (from tensorflow) (2.12.0)\n",
      "Requirement already satisfied: termcolor>=1.1.0 in /opt/conda/lib/python3.11/site-packages (from tensorflow) (2.3.0)\n",
      "Requirement already satisfied: typing-extensions<4.6.0,>=3.6.6 in /opt/conda/lib/python3.11/site-packages (from tensorflow) (4.5.0)\n",
      "Requirement already satisfied: wrapt<1.15,>=1.11.0 in /opt/conda/lib/python3.11/site-packages (from tensorflow) (1.14.1)\n",
      "Requirement already satisfied: tensorflow-io-gcs-filesystem>=0.23.1 in /opt/conda/lib/python3.11/site-packages (from tensorflow) (0.34.0)\n",
      "Requirement already satisfied: wheel<1.0,>=0.23.0 in /opt/conda/lib/python3.11/site-packages (from astunparse>=1.6.0->tensorflow) (0.41.3)\n",
      "Requirement already satisfied: ml-dtypes>=0.2.0 in /opt/conda/lib/python3.11/site-packages (from jax>=0.3.15->tensorflow) (0.3.1)\n",
      "Requirement already satisfied: scipy>=1.9 in /opt/conda/lib/python3.11/site-packages (from jax>=0.3.15->tensorflow) (1.11.3)\n",
      "Requirement already satisfied: google-auth<3,>=1.6.3 in /opt/conda/lib/python3.11/site-packages (from tensorboard<2.13,>=2.12->tensorflow) (2.23.4)\n",
      "Requirement already satisfied: google-auth-oauthlib<1.1,>=0.5 in /opt/conda/lib/python3.11/site-packages (from tensorboard<2.13,>=2.12->tensorflow) (1.0.0)\n",
      "Requirement already satisfied: markdown>=2.6.8 in /opt/conda/lib/python3.11/site-packages (from tensorboard<2.13,>=2.12->tensorflow) (3.5.1)\n",
      "Requirement already satisfied: requests<3,>=2.21.0 in /opt/conda/lib/python3.11/site-packages (from tensorboard<2.13,>=2.12->tensorflow) (2.31.0)\n",
      "Requirement already satisfied: tensorboard-data-server<0.8.0,>=0.7.0 in /opt/conda/lib/python3.11/site-packages (from tensorboard<2.13,>=2.12->tensorflow) (0.7.2)\n",
      "Requirement already satisfied: werkzeug>=1.0.1 in /opt/conda/lib/python3.11/site-packages (from tensorboard<2.13,>=2.12->tensorflow) (3.0.1)\n",
      "Requirement already satisfied: cachetools<6.0,>=2.0.0 in /opt/conda/lib/python3.11/site-packages (from google-auth<3,>=1.6.3->tensorboard<2.13,>=2.12->tensorflow) (5.3.2)\n",
      "Requirement already satisfied: pyasn1-modules>=0.2.1 in /opt/conda/lib/python3.11/site-packages (from google-auth<3,>=1.6.3->tensorboard<2.13,>=2.12->tensorflow) (0.3.0)\n",
      "Requirement already satisfied: rsa<5,>=3.1.4 in /opt/conda/lib/python3.11/site-packages (from google-auth<3,>=1.6.3->tensorboard<2.13,>=2.12->tensorflow) (4.9)\n",
      "Requirement already satisfied: requests-oauthlib>=0.7.0 in /opt/conda/lib/python3.11/site-packages (from google-auth-oauthlib<1.1,>=0.5->tensorboard<2.13,>=2.12->tensorflow) (1.3.1)\n",
      "Requirement already satisfied: charset-normalizer<4,>=2 in /opt/conda/lib/python3.11/site-packages (from requests<3,>=2.21.0->tensorboard<2.13,>=2.12->tensorflow) (3.3.2)\n",
      "Requirement already satisfied: idna<4,>=2.5 in /opt/conda/lib/python3.11/site-packages (from requests<3,>=2.21.0->tensorboard<2.13,>=2.12->tensorflow) (3.4)\n",
      "Requirement already satisfied: urllib3<3,>=1.21.1 in /opt/conda/lib/python3.11/site-packages (from requests<3,>=2.21.0->tensorboard<2.13,>=2.12->tensorflow) (2.1.0)\n",
      "Requirement already satisfied: certifi>=2017.4.17 in /opt/conda/lib/python3.11/site-packages (from requests<3,>=2.21.0->tensorboard<2.13,>=2.12->tensorflow) (2023.7.22)\n",
      "Requirement already satisfied: MarkupSafe>=2.1.1 in /opt/conda/lib/python3.11/site-packages (from werkzeug>=1.0.1->tensorboard<2.13,>=2.12->tensorflow) (2.1.3)\n",
      "Requirement already satisfied: pyasn1<0.6.0,>=0.4.6 in /opt/conda/lib/python3.11/site-packages (from pyasn1-modules>=0.2.1->google-auth<3,>=1.6.3->tensorboard<2.13,>=2.12->tensorflow) (0.5.0)\n",
      "Requirement already satisfied: oauthlib>=3.0.0 in /opt/conda/lib/python3.11/site-packages (from requests-oauthlib>=0.7.0->google-auth-oauthlib<1.1,>=0.5->tensorboard<2.13,>=2.12->tensorflow) (3.2.2)\n",
      "Using cached pandas-2.2.1-cp311-cp311-manylinux_2_17_x86_64.manylinux2014_x86_64.whl (13.0 MB)\n",
      "Using cached pillow-10.2.0-cp311-cp311-manylinux_2_28_x86_64.whl (4.5 MB)\n",
      "Using cached tzdata-2024.1-py2.py3-none-any.whl (345 kB)\n",
      "Installing collected packages: tzdata, Pillow, pandas\n",
      "Successfully installed Pillow-10.2.0 pandas-2.2.1 tzdata-2024.1\n",
      "Note: you may need to restart the kernel to use updated packages.\n"
     ]
    }
   ],
   "source": [
    "pip install pandas numpy tensorflow Pillow\n"
   ]
  },
  {
   "cell_type": "code",
   "execution_count": 29,
   "id": "8047a7b7-f2fa-4687-a8be-f24399e0dbc8",
   "metadata": {},
   "outputs": [
    {
     "name": "stdout",
     "output_type": "stream",
     "text": [
      "Requirement already satisfied: Pillow in /opt/conda/lib/python3.11/site-packages (10.2.0)\n",
      "Note: you may need to restart the kernel to use updated packages.\n"
     ]
    }
   ],
   "source": [
    "pip install Pillow"
   ]
  },
  {
   "cell_type": "code",
   "execution_count": 4,
   "id": "a009d1c7-c954-4ce5-9b09-dc945c3a121e",
   "metadata": {},
   "outputs": [],
   "source": [
    "# Load metadata\n",
    "train_metadata = pd.read_csv('/home/jovyan/shared/sampled_data/train_data.csv', usecols=['filename', 'age'])\n",
    "val_metadata = pd.read_csv('/home/jovyan/shared/sampled_data/val_data.csv', usecols=['filename', 'age'])\n",
    "test_metadata = pd.read_csv('/home/jovyan/shared/sampled_data/test_data.csv', usecols=['filename', 'age'])\n",
    "\n",
    "# Data directories\n",
    "train_image_dir = '/home/jovyan/shared/sampled_data/train_data'\n",
    "val_image_dir = '/home/jovyan/shared/sampled_data/val_data'\n",
    "test_image_dir = '/home/jovyan/shared/sampled_data/test_data'\n"
   ]
  },
  {
   "cell_type": "code",
   "execution_count": 5,
   "id": "9504c1fb-43ed-4858-9f7d-2808063ac79b",
   "metadata": {},
   "outputs": [
    {
     "name": "stdout",
     "output_type": "stream",
     "text": [
      "Found 29913 validated image filenames.\n",
      "Found 3762 validated image filenames.\n",
      "Found 3739 validated image filenames.\n"
     ]
    }
   ],
   "source": [
    "# Image dimensions\n",
    "image_size = (224, 224)\n",
    "batch_size = 32\n",
    "\n",
    "# Data generators\n",
    "train_datagen = ImageDataGenerator(rescale=1./255)\n",
    "val_datagen = ImageDataGenerator(rescale=1./255)\n",
    "test_datagen = ImageDataGenerator(rescale=1./255)\n",
    "\n",
    "train_generator = train_datagen.flow_from_dataframe(\n",
    "    dataframe=train_metadata,\n",
    "    directory=train_image_dir,\n",
    "    x_col='filename',\n",
    "    y_col='age',\n",
    "    target_size=image_size,\n",
    "    batch_size=batch_size,\n",
    "    class_mode='raw')\n",
    "\n",
    "val_generator = val_datagen.flow_from_dataframe(\n",
    "    dataframe=val_metadata,\n",
    "    directory=val_image_dir,\n",
    "    x_col='filename',\n",
    "    y_col='age',\n",
    "    target_size=image_size,\n",
    "    batch_size=batch_size,\n",
    "    class_mode='raw')\n",
    "\n",
    "test_generator = test_datagen.flow_from_dataframe(\n",
    "    dataframe=test_metadata,\n",
    "    directory=test_image_dir,\n",
    "    x_col='filename',\n",
    "    y_col='age',\n",
    "    target_size=image_size,\n",
    "    batch_size=batch_size,\n",
    "    class_mode='raw')"
   ]
  },
  {
   "cell_type": "code",
   "execution_count": 6,
   "id": "0cfc1ca4-e4c5-417d-b2ed-11198ebb70ab",
   "metadata": {},
   "outputs": [
    {
     "name": "stderr",
     "output_type": "stream",
     "text": [
      "2024-03-31 13:07:33.022476: I tensorflow/compiler/xla/stream_executor/cuda/cuda_gpu_executor.cc:996] successful NUMA node read from SysFS had negative value (-1), but there must be at least one NUMA node, so returning NUMA node zero. See more at https://github.com/torvalds/linux/blob/v6.0/Documentation/ABI/testing/sysfs-bus-pci#L344-L355\n",
      "2024-03-31 13:07:33.087155: I tensorflow/compiler/xla/stream_executor/cuda/cuda_gpu_executor.cc:996] successful NUMA node read from SysFS had negative value (-1), but there must be at least one NUMA node, so returning NUMA node zero. See more at https://github.com/torvalds/linux/blob/v6.0/Documentation/ABI/testing/sysfs-bus-pci#L344-L355\n",
      "2024-03-31 13:07:33.088820: I tensorflow/compiler/xla/stream_executor/cuda/cuda_gpu_executor.cc:996] successful NUMA node read from SysFS had negative value (-1), but there must be at least one NUMA node, so returning NUMA node zero. See more at https://github.com/torvalds/linux/blob/v6.0/Documentation/ABI/testing/sysfs-bus-pci#L344-L355\n",
      "2024-03-31 13:07:33.093637: I tensorflow/compiler/xla/stream_executor/cuda/cuda_gpu_executor.cc:996] successful NUMA node read from SysFS had negative value (-1), but there must be at least one NUMA node, so returning NUMA node zero. See more at https://github.com/torvalds/linux/blob/v6.0/Documentation/ABI/testing/sysfs-bus-pci#L344-L355\n",
      "2024-03-31 13:07:33.095206: I tensorflow/compiler/xla/stream_executor/cuda/cuda_gpu_executor.cc:996] successful NUMA node read from SysFS had negative value (-1), but there must be at least one NUMA node, so returning NUMA node zero. See more at https://github.com/torvalds/linux/blob/v6.0/Documentation/ABI/testing/sysfs-bus-pci#L344-L355\n",
      "2024-03-31 13:07:33.096633: I tensorflow/compiler/xla/stream_executor/cuda/cuda_gpu_executor.cc:996] successful NUMA node read from SysFS had negative value (-1), but there must be at least one NUMA node, so returning NUMA node zero. See more at https://github.com/torvalds/linux/blob/v6.0/Documentation/ABI/testing/sysfs-bus-pci#L344-L355\n",
      "2024-03-31 13:07:34.336550: I tensorflow/compiler/xla/stream_executor/cuda/cuda_gpu_executor.cc:996] successful NUMA node read from SysFS had negative value (-1), but there must be at least one NUMA node, so returning NUMA node zero. See more at https://github.com/torvalds/linux/blob/v6.0/Documentation/ABI/testing/sysfs-bus-pci#L344-L355\n",
      "2024-03-31 13:07:34.338580: I tensorflow/compiler/xla/stream_executor/cuda/cuda_gpu_executor.cc:996] successful NUMA node read from SysFS had negative value (-1), but there must be at least one NUMA node, so returning NUMA node zero. See more at https://github.com/torvalds/linux/blob/v6.0/Documentation/ABI/testing/sysfs-bus-pci#L344-L355\n",
      "2024-03-31 13:07:34.340348: I tensorflow/compiler/xla/stream_executor/cuda/cuda_gpu_executor.cc:996] successful NUMA node read from SysFS had negative value (-1), but there must be at least one NUMA node, so returning NUMA node zero. See more at https://github.com/torvalds/linux/blob/v6.0/Documentation/ABI/testing/sysfs-bus-pci#L344-L355\n",
      "2024-03-31 13:07:34.342048: I tensorflow/core/common_runtime/gpu/gpu_device.cc:1635] Created device /job:localhost/replica:0/task:0/device:GPU:0 with 13707 MB memory:  -> device: 0, name: GRID V100DX-16Q, pci bus id: 0000:0a:00.0, compute capability: 7.0\n"
     ]
    }
   ],
   "source": [
    "# Increase data augmentation\n",
    "train_datagen = tf.keras.preprocessing.image.ImageDataGenerator(\n",
    "    rescale=1./255,\n",
    "    rotation_range=30,\n",
    "    width_shift_range=0.2,\n",
    "    height_shift_range=0.2,\n",
    "    shear_range=0.2,\n",
    "    zoom_range=0.2,\n",
    "    horizontal_flip=True,\n",
    "    fill_mode='nearest'\n",
    ")\n",
    "\n",
    "\n",
    "lr_scheduler = tf.keras.callbacks.ReduceLROnPlateau(factor=0.5, patience=3)\n",
    "\n",
    "# Load MobileNetV2 base model\n",
    "base_model = MobileNetV2(input_shape=(224, 224, 3), include_top=False, weights='imagenet')\n",
    "\n",
    "# Fine-tuning: Unfreeze some layers\n",
    "for layer in base_model.layers[:-20]:\n",
    "    layer.trainable = False\n",
    "\n",
    "x = GlobalAveragePooling2D()(base_model.output)\n",
    "x = Dense(128, activation='relu')(x)\n",
    "x = Dense(256, activation='relu', kernel_regularizer=regularizers.l2(0.01))(x)\n",
    "x = Dropout(0.3)(x)  # Dropout layer for regularization\n",
    "predictions = Dense(1, activation='linear')(x)\n",
    "\n",
    "\n",
    "model = Model(inputs=base_model.input, outputs=predictions)\n",
    "model.compile(optimizer=Adam(learning_rate=1e-5), loss=MeanSquaredError())\n",
    "\n",
    "# Early stopping \n",
    "early_stopping = EarlyStopping(monitor='val_loss', patience=5, restore_best_weights=True)"
   ]
  },
  {
   "cell_type": "code",
   "execution_count": 7,
   "id": "3dc5e886-5ec3-4daf-a465-87da073a3249",
   "metadata": {},
   "outputs": [
    {
     "name": "stdout",
     "output_type": "stream",
     "text": [
      "Epoch 1/50\n"
     ]
    },
    {
     "name": "stderr",
     "output_type": "stream",
     "text": [
      "2024-03-31 13:07:36.360979: I tensorflow/core/common_runtime/executor.cc:1197] [/device:CPU:0] (DEBUG INFO) Executor start aborting (this does not indicate an error and you can ignore this message): INVALID_ARGUMENT: You must feed a value for placeholder tensor 'Placeholder/_0' with dtype int32\n",
      "\t [[{{node Placeholder/_0}}]]\n",
      "2024-03-31 13:07:41.268920: I tensorflow/compiler/xla/stream_executor/cuda/cuda_dnn.cc:424] Loaded cuDNN version 8900\n",
      "2024-03-31 13:07:42.591949: I tensorflow/tsl/platform/default/subprocess.cc:304] Start cannot spawn child process: No such file or directory\n",
      "2024-03-31 13:07:43.060092: I tensorflow/compiler/xla/service/service.cc:169] XLA service 0x55c4dea72090 initialized for platform CUDA (this does not guarantee that XLA will be used). Devices:\n",
      "2024-03-31 13:07:43.060150: I tensorflow/compiler/xla/service/service.cc:177]   StreamExecutor device (0): GRID V100DX-16Q, Compute Capability 7.0\n",
      "2024-03-31 13:07:43.070206: I tensorflow/compiler/mlir/tensorflow/utils/dump_mlir_util.cc:269] disabling MLIR crash reproducer, set env var `MLIR_CRASH_REPRODUCER_DIRECTORY` to enable.\n",
      "2024-03-31 13:07:43.176595: I tensorflow/tsl/platform/default/subprocess.cc:304] Start cannot spawn child process: No such file or directory\n",
      "2024-03-31 13:07:43.251509: I ./tensorflow/compiler/jit/device_compiler.h:180] Compiled cluster using XLA!  This line is logged at most once for the lifetime of the process.\n"
     ]
    },
    {
     "name": "stdout",
     "output_type": "stream",
     "text": [
      "935/935 [==============================] - ETA: 0s - loss: 847.2804"
     ]
    },
    {
     "name": "stderr",
     "output_type": "stream",
     "text": [
      "2024-03-31 13:09:03.311992: I tensorflow/core/common_runtime/executor.cc:1197] [/device:CPU:0] (DEBUG INFO) Executor start aborting (this does not indicate an error and you can ignore this message): INVALID_ARGUMENT: You must feed a value for placeholder tensor 'Placeholder/_0' with dtype int32\n",
      "\t [[{{node Placeholder/_0}}]]\n"
     ]
    },
    {
     "name": "stdout",
     "output_type": "stream",
     "text": [
      "935/935 [==============================] - 113s 110ms/step - loss: 847.2804 - val_loss: 219.2500 - lr: 1.0000e-05\n",
      "Epoch 2/50\n",
      "935/935 [==============================] - 69s 73ms/step - loss: 189.0905 - val_loss: 161.5106 - lr: 1.0000e-05\n",
      "Epoch 3/50\n",
      "935/935 [==============================] - 69s 74ms/step - loss: 163.6791 - val_loss: 144.3600 - lr: 1.0000e-05\n",
      "Epoch 4/50\n",
      "935/935 [==============================] - 67s 72ms/step - loss: 146.6427 - val_loss: 130.8121 - lr: 1.0000e-05\n",
      "Epoch 5/50\n",
      "935/935 [==============================] - 69s 74ms/step - loss: 133.6914 - val_loss: 121.8690 - lr: 1.0000e-05\n",
      "Epoch 6/50\n",
      "935/935 [==============================] - 72s 77ms/step - loss: 122.9097 - val_loss: 115.5693 - lr: 1.0000e-05\n",
      "Epoch 7/50\n",
      "935/935 [==============================] - 73s 78ms/step - loss: 112.6119 - val_loss: 107.6998 - lr: 1.0000e-05\n",
      "Epoch 8/50\n",
      "935/935 [==============================] - 72s 77ms/step - loss: 105.5269 - val_loss: 102.2175 - lr: 1.0000e-05\n",
      "Epoch 9/50\n",
      "935/935 [==============================] - 68s 72ms/step - loss: 97.6802 - val_loss: 110.2449 - lr: 1.0000e-05\n",
      "Epoch 10/50\n",
      "935/935 [==============================] - 65s 70ms/step - loss: 92.4586 - val_loss: 93.2469 - lr: 1.0000e-05\n",
      "Epoch 11/50\n",
      "935/935 [==============================] - 69s 74ms/step - loss: 84.1805 - val_loss: 92.8190 - lr: 1.0000e-05\n",
      "Epoch 12/50\n",
      "935/935 [==============================] - 68s 73ms/step - loss: 80.2744 - val_loss: 87.2636 - lr: 1.0000e-05\n",
      "Epoch 13/50\n",
      "935/935 [==============================] - 69s 73ms/step - loss: 76.7074 - val_loss: 84.6373 - lr: 1.0000e-05\n",
      "Epoch 14/50\n",
      "935/935 [==============================] - 69s 74ms/step - loss: 70.9444 - val_loss: 81.6511 - lr: 1.0000e-05\n",
      "Epoch 15/50\n",
      "935/935 [==============================] - 76s 81ms/step - loss: 67.7420 - val_loss: 79.8490 - lr: 1.0000e-05\n",
      "Epoch 16/50\n",
      "935/935 [==============================] - 70s 75ms/step - loss: 63.7487 - val_loss: 78.8975 - lr: 1.0000e-05\n",
      "Epoch 17/50\n",
      "935/935 [==============================] - 69s 74ms/step - loss: 61.1699 - val_loss: 76.1773 - lr: 1.0000e-05\n",
      "Epoch 18/50\n",
      "935/935 [==============================] - 66s 71ms/step - loss: 59.0449 - val_loss: 74.4365 - lr: 1.0000e-05\n",
      "Epoch 19/50\n",
      "935/935 [==============================] - 67s 71ms/step - loss: 54.9739 - val_loss: 73.5667 - lr: 1.0000e-05\n",
      "Epoch 20/50\n",
      "935/935 [==============================] - 66s 71ms/step - loss: 52.0341 - val_loss: 72.3190 - lr: 1.0000e-05\n",
      "Epoch 21/50\n",
      "935/935 [==============================] - 66s 71ms/step - loss: 51.8441 - val_loss: 71.3810 - lr: 1.0000e-05\n",
      "Epoch 22/50\n",
      "935/935 [==============================] - 68s 73ms/step - loss: 48.9641 - val_loss: 70.2071 - lr: 1.0000e-05\n",
      "Epoch 23/50\n",
      "935/935 [==============================] - 69s 74ms/step - loss: 44.4970 - val_loss: 68.4088 - lr: 1.0000e-05\n",
      "Epoch 25/50\n",
      "935/935 [==============================] - 73s 78ms/step - loss: 43.2046 - val_loss: 73.3416 - lr: 1.0000e-05\n",
      "Epoch 26/50\n",
      "935/935 [==============================] - 70s 75ms/step - loss: 41.2121 - val_loss: 68.3197 - lr: 1.0000e-05\n",
      "Epoch 27/50\n",
      "935/935 [==============================] - 73s 78ms/step - loss: 40.3539 - val_loss: 69.1436 - lr: 1.0000e-05\n",
      "Epoch 28/50\n",
      "146/935 [===>..........................] - ETA: 53s - loss: 38.8286"
     ]
    },
    {
     "name": "stderr",
     "output_type": "stream",
     "text": [
      "IOPub message rate exceeded.\n",
      "The Jupyter server will temporarily stop sending output\n",
      "to the client in order to avoid crashing it.\n",
      "To change this limit, set the config variable\n",
      "`--ServerApp.iopub_msg_rate_limit`.\n",
      "\n",
      "Current values:\n",
      "ServerApp.iopub_msg_rate_limit=1000.0 (msgs/sec)\n",
      "ServerApp.rate_limit_window=3.0 (secs)\n",
      "\n"
     ]
    },
    {
     "name": "stdout",
     "output_type": "stream",
     "text": [
      "935/935 [==============================] - 70s 75ms/step - loss: 38.3311 - val_loss: 68.1009 - lr: 1.0000e-05\n",
      "Epoch 30/50\n",
      "935/935 [==============================] - 73s 78ms/step - loss: 36.2210 - val_loss: 65.9556 - lr: 1.0000e-05\n",
      "Epoch 31/50\n",
      "935/935 [==============================] - 72s 77ms/step - loss: 35.5239 - val_loss: 65.4489 - lr: 1.0000e-05\n",
      "Epoch 32/50\n",
      "935/935 [==============================] - 73s 79ms/step - loss: 34.3704 - val_loss: 67.4974 - lr: 1.0000e-05\n",
      "Epoch 33/50\n",
      "935/935 [==============================] - 71s 76ms/step - loss: 33.5571 - val_loss: 65.2825 - lr: 1.0000e-05\n",
      "Epoch 34/50\n",
      "935/935 [==============================] - 68s 72ms/step - loss: 33.4382 - val_loss: 68.2731 - lr: 1.0000e-05\n",
      "Epoch 35/50\n",
      "935/935 [==============================] - 70s 75ms/step - loss: 31.9122 - val_loss: 65.6197 - lr: 1.0000e-05\n",
      "Epoch 36/50\n",
      "935/935 [==============================] - 75s 80ms/step - loss: 32.4289 - val_loss: 63.7792 - lr: 1.0000e-05\n",
      "Epoch 37/50\n",
      "935/935 [==============================] - 71s 76ms/step - loss: 31.1840 - val_loss: 64.5960 - lr: 1.0000e-05\n",
      "Epoch 38/50\n",
      "935/935 [==============================] - 70s 75ms/step - loss: 29.1531 - val_loss: 63.3877 - lr: 1.0000e-05\n",
      "Epoch 39/50\n",
      "935/935 [==============================] - 72s 77ms/step - loss: 29.5681 - val_loss: 63.8305 - lr: 1.0000e-05\n",
      "Epoch 40/50\n",
      "935/935 [==============================] - 71s 76ms/step - loss: 29.3445 - val_loss: 63.3761 - lr: 1.0000e-05\n",
      "Epoch 41/50\n",
      "935/935 [==============================] - 71s 76ms/step - loss: 27.6292 - val_loss: 64.5080 - lr: 1.0000e-05\n",
      "Epoch 42/50\n",
      "935/935 [==============================] - 71s 76ms/step - loss: 27.8885 - val_loss: 63.9058 - lr: 1.0000e-05\n",
      "Epoch 43/50\n",
      "935/935 [==============================] - 69s 73ms/step - loss: 27.3632 - val_loss: 64.1198 - lr: 1.0000e-05\n",
      "Epoch 44/50\n",
      "935/935 [==============================] - 71s 76ms/step - loss: 26.0209 - val_loss: 61.7914 - lr: 5.0000e-06\n",
      "Epoch 45/50\n",
      "935/935 [==============================] - 73s 78ms/step - loss: 26.0082 - val_loss: 61.6667 - lr: 5.0000e-06\n",
      "Epoch 46/50\n",
      "935/935 [==============================] - 72s 77ms/step - loss: 25.2944 - val_loss: 62.6149 - lr: 5.0000e-06\n",
      "Epoch 47/50\n",
      "935/935 [==============================] - 73s 78ms/step - loss: 25.2638 - val_loss: 62.4787 - lr: 5.0000e-06\n",
      "Epoch 48/50\n",
      "935/935 [==============================] - 72s 77ms/step - loss: 24.8558 - val_loss: 61.8538 - lr: 5.0000e-06\n",
      "Epoch 49/50\n",
      "935/935 [==============================] - 72s 77ms/step - loss: 24.5360 - val_loss: 61.7304 - lr: 2.5000e-06\n",
      "Epoch 50/50\n",
      "935/935 [==============================] - 75s 81ms/step - loss: 24.7291 - val_loss: 62.2655 - lr: 2.5000e-06\n",
      "  1/117 [..............................] - ETA: 19s - loss: 34.7861"
     ]
    },
    {
     "name": "stderr",
     "output_type": "stream",
     "text": [
      "2024-03-31 14:07:08.189798: I tensorflow/core/common_runtime/executor.cc:1197] [/device:CPU:0] (DEBUG INFO) Executor start aborting (this does not indicate an error and you can ignore this message): INVALID_ARGUMENT: You must feed a value for placeholder tensor 'Placeholder/_0' with dtype int32\n",
      "\t [[{{node Placeholder/_0}}]]\n"
     ]
    },
    {
     "name": "stdout",
     "output_type": "stream",
     "text": [
      "117/117 [==============================] - 10s 89ms/step - loss: 60.9983\n",
      "Test Loss: 60.998348236083984\n"
     ]
    }
   ],
   "source": [
    "# Train the model\n",
    "model.fit(train_generator, epochs=50, validation_data=val_generator, callbacks=[early_stopping, lr_scheduler])\n",
    "\n",
    "# Evaluate the model\n",
    "loss = model.evaluate(test_generator)\n",
    "print(\"Test Loss:\", loss)\n"
   ]
  },
  {
   "cell_type": "code",
   "execution_count": 11,
   "id": "e96f839f-794d-4d6b-9894-c4a61f77f814",
   "metadata": {},
   "outputs": [
    {
     "name": "stdout",
     "output_type": "stream",
     "text": [
      "1/1 [==============================] - 0s 33ms/step\n",
      "Predicted Age: 2.0834982\n"
     ]
    }
   ],
   "source": [
    "from PIL import Image\n",
    "import numpy as np\n",
    "\n",
    "# Load and preprocess \n",
    "def preprocess_image(image_path, target_size=(224, 224)):\n",
    "    image = Image.open(image_path)\n",
    "    image = image.resize(target_size)\n",
    "    image = np.array(image) / 255.0  # Normalize pixel values\n",
    "    image = np.expand_dims(image, axis=0)  # Add batch dimension\n",
    "    return image\n",
    "\n",
    "# image to test\n",
    "image_path = '/home/jovyan/shared/sampled_data/test_data/00009A02.jpg' \n",
    "\n",
    "\n",
    "input_image = preprocess_image(image_path)\n",
    "\n",
    "predictions = model.predict(input_image)\n",
    "\n",
    "\n",
    "predicted_age = predictions[0][0]\n",
    "print(\"Predicted Age:\", predicted_age)\n"
   ]
  },
  {
   "cell_type": "code",
   "execution_count": null,
   "id": "1a66c9b2-bf10-483c-a32d-7e9f3555c2a1",
   "metadata": {},
   "outputs": [],
   "source": []
  }
 ],
 "metadata": {
  "kernelspec": {
   "display_name": "Python 3 (ipykernel)",
   "language": "python",
   "name": "python3"
  },
  "language_info": {
   "codemirror_mode": {
    "name": "ipython",
    "version": 3
   },
   "file_extension": ".py",
   "mimetype": "text/x-python",
   "name": "python",
   "nbconvert_exporter": "python",
   "pygments_lexer": "ipython3",
   "version": "3.11.6"
  }
 },
 "nbformat": 4,
 "nbformat_minor": 5
}
